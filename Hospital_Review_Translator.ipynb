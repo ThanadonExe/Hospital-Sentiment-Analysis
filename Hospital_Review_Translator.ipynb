{
 "cells": [
  {
   "cell_type": "code",
   "execution_count": null,
   "metadata": {
    "colab": {
     "base_uri": "https://localhost:8080/",
     "height": 939
    },
    "colab_type": "code",
    "id": "6z4_pel6j_KK",
    "outputId": "e5a03c51-923b-4584-e595-2e1d82dfc8a6"
   },
   "outputs": [],
   "source": [
    "!pip install googletrans\n",
    "!pip install tqdm --upgrade\n",
    "!pip install twython\n",
    "!pip install emoji"
   ]
  },
  {
   "cell_type": "code",
   "execution_count": null,
   "metadata": {
    "colab": {},
    "colab_type": "code",
    "id": "wd7ZIa3lj_KP"
   },
   "outputs": [],
   "source": [
    "#Translation\n",
    "from googletrans import Translator\n",
    "\n",
    "#Utils\n",
    "import numpy as np\n",
    "import pandas as pd\n",
    "import emoji\n",
    "import re\n",
    "\n",
    "from random import randint\n",
    "from time import sleep\n",
    "from tqdm import tqdm"
   ]
  },
  {
   "cell_type": "code",
   "execution_count": null,
   "metadata": {
    "colab": {},
    "colab_type": "code",
    "id": "sjKxtiMKj_KU"
   },
   "outputs": [],
   "source": [
    "\"\"\"remove emojis.\n",
    "        Parameters\n",
    "        ----------\n",
    "        reviews : string\n",
    "             review of customer in hospital\n",
    "\"\"\"\n",
    "def remove_emoji(review):\n",
    "    clean_review = re.sub(emoji.get_emoji_regexp(), r\"\", review) \n",
    "    return clean_review"
   ]
  },
  {
   "cell_type": "code",
   "execution_count": null,
   "metadata": {
    "colab": {},
    "colab_type": "code",
    "id": "cj7Bk4opj_KX"
   },
   "outputs": [],
   "source": [
    "\"\"\"get english translated column.\n",
    "        Parameters\n",
    "        ----------\n",
    "        reviews : string\n",
    "             review of customer in hospital\n",
    "\"\"\"\n",
    "def apply_translator(review): \n",
    "    try: \n",
    "        review = remove_emoji(review)\n",
    "        sleep(randint(1,2))\n",
    "        review_translate = Translator().translate(review, src=\"th\", dest=\"en\").text\n",
    "    except Exception as e:\n",
    "        review_translate = ''\n",
    "        print(review)\n",
    "        print(e)\n",
    "    return review_translate "
   ]
  },
  {
   "cell_type": "code",
   "execution_count": null,
   "metadata": {
    "colab": {},
    "colab_type": "code",
    "id": "Uw_CPEIamj-y"
   },
   "outputs": [],
   "source": [
    "hospital_list = [\"bumrungrad\", \"lerdsin\", \"rajavithi\"]"
   ]
  },
  {
   "cell_type": "code",
   "execution_count": null,
   "metadata": {
    "colab": {
     "base_uri": "https://localhost:8080/",
     "height": 667
    },
    "colab_type": "code",
    "id": "Shd2c3fUoUnc",
    "outputId": "57653e01-2aea-424f-ab53-124aacb23c58"
   },
   "outputs": [],
   "source": [
    "for hospital in hospital_list:\n",
    "  df = pd.read_csv(hospital+\".csv\")\n",
    "  tqdm.pandas()\n",
    "  df[\"reviews_en\"] = df.progress_apply(lambda x: apply_translator(x[\"reviews\"]), axis=1)\n",
    "  df.to_csv(hospital+\"-translated.csv\", index=False)"
   ]
  },
  {
   "cell_type": "code",
   "execution_count": null,
   "metadata": {},
   "outputs": [],
   "source": []
  }
 ],
 "metadata": {
  "colab": {
   "collapsed_sections": [],
   "name": "Hospital_Review_Translator.ipynb",
   "provenance": []
  },
  "kernelspec": {
   "display_name": "Python 3",
   "language": "python",
   "name": "python3"
  },
  "language_info": {
   "codemirror_mode": {
    "name": "ipython",
    "version": 3
   },
   "file_extension": ".py",
   "mimetype": "text/x-python",
   "name": "python",
   "nbconvert_exporter": "python",
   "pygments_lexer": "ipython3",
   "version": "3.7.5"
  }
 },
 "nbformat": 4,
 "nbformat_minor": 1
}
